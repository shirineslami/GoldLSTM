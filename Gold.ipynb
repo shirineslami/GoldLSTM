{
 "cells": [
  {
   "cell_type": "markdown",
   "id": "d7779bff-540b-48bb-a213-9da2261fc52e",
   "metadata": {},
   "source": [
    "# Gold price prediction using LSTM with the help of volatility quality and HMA indicators"
   ]
  },
  {
   "cell_type": "markdown",
   "id": "bb8e1c1d-3ec6-450e-879e-80fdb38445ba",
   "metadata": {},
   "source": [
    "## Load required libraries"
   ]
  },
  {
   "cell_type": "code",
   "execution_count": 1,
   "id": "39144a25-f7e0-4d5a-a13b-5d330da9f92d",
   "metadata": {},
   "outputs": [],
   "source": [
    "%reset -f\n",
    "import tensorflow as tf\n",
    "from tensorflow import keras\n",
    "import matplotlib.pyplot as plt\n",
    "import pandas as pd\n",
    "from tensorflow.keras.models import Sequential\n",
    "from tensorflow.keras.layers import Dense\n",
    "from tensorflow.keras.layers import LSTM\n",
    "from sklearn.metrics import mean_squared_error\n",
    "import numpy as np\n",
    "from sklearn.model_selection import train_test_split\n",
    "import math"
   ]
  },
  {
   "cell_type": "markdown",
   "id": "9fb3bb2c-cb0f-4604-ba4d-ebcbe6b9d923",
   "metadata": {},
   "source": [
    "## Indicators constants"
   ]
  },
  {
   "cell_type": "code",
   "execution_count": 2,
   "id": "f005089f-3978-45f1-ab71-ffb5f2780a84",
   "metadata": {},
   "outputs": [],
   "source": [
    "VQPeriod=5\n",
    "HPeriod=25\n",
    "inpFilter=1.0/100\n",
    "expSmoothing=2\n",
    "LSTM_look_back = 25"
   ]
  },
  {
   "cell_type": "markdown",
   "id": "1fa7b182-4288-4f02-8bed-bca28ba71bfe",
   "metadata": {},
   "source": [
    "## Function for data rearrangement"
   ]
  },
  {
   "cell_type": "code",
   "execution_count": 3,
   "id": "5b6a7614-95aa-4388-a21f-d2a4c67c084c",
   "metadata": {},
   "outputs": [],
   "source": [
    "def create_dataset(dataset, look_back=1):\n",
    "    if (dataset.ndim==1):\n",
    "        dataset=dataset.to_frame()\n",
    "    dataX, dataY = [], []    \n",
    "    for i in range(dataset.shape[0]-look_back):\n",
    "        a = (dataset.iloc[i:(i+look_back), :]).values.tolist()\n",
    "        dataX.append(a)\n",
    "        dataY.append(float(dataset.iloc[i + look_back, 0]))\n",
    "    return np.array(dataX).astype(float), np.array(dataY)"
   ]
  },
  {
   "cell_type": "markdown",
   "id": "49a15a05-5e59-4a47-b88c-91c32e57d121",
   "metadata": {},
   "source": [
    "## Load data (from Dukascopy)"
   ]
  },
  {
   "cell_type": "code",
   "execution_count": 4,
   "id": "ebe891e8-6f9e-44b4-b5fd-cf950c642795",
   "metadata": {},
   "outputs": [],
   "source": [
    "df = pd.read_csv('XAUUSD.csv')\n",
    "df2=(df['Local time']).str.split(pat=' ', n=1, expand=True)\n",
    "df['Date']=pd.to_datetime(df2[0], format='%d.%m.%Y')\n",
    "df.drop('Local time', axis=1, inplace=True)\n",
    "df.set_index('Date', inplace=True)\n",
    "df['Volume'] = df['Volume'].astype('int')\n",
    "df['Gain']=(df['Close'].diff()).shift(-1)\n",
    "df.dropna(inplace=True)\n",
    "df2=df.pop('Gain')"
   ]
  },
  {
   "cell_type": "markdown",
   "id": "776c8677-e80d-4490-a484-eaa840f74138",
   "metadata": {},
   "source": [
    "## Calculate indicators"
   ]
  },
  {
   "cell_type": "code",
   "execution_count": 5,
   "id": "7e3a440b-a230-4714-b804-a67fe2fc9feb",
   "metadata": {},
   "outputs": [],
   "source": [
    "TrueR=[]\n",
    "maH=[]\n",
    "maL=[]\n",
    "maO=[]\n",
    "maC=[]\n",
    "ATR=[]\n",
    "vqi=[]\n",
    "vqc=[]\n",
    "rhma=[]\n",
    "hma=[]\n",
    "for i in range(len(df.index)):\n",
    "    #Volatility quality indicator\n",
    "    if i==0:\n",
    "        Cp=df['Close'].iloc[i]\n",
    "    else:\n",
    "        Cp=df['Close'].iloc[i-1]\n",
    "        \n",
    "    TrueR.append(max([(df['High'].iloc[i]-df['Low'].iloc[i]), abs(df['High'].iloc[i]-Cp), abs(df['Low'].iloc[i]-Cp)]))\n",
    "    \n",
    "    sH=0\n",
    "    sL=0\n",
    "    sO=0\n",
    "    sC=0\n",
    "    sTr=0\n",
    "    l=min([i+1, VQPeriod])\n",
    "    expFactor=expSmoothing/(l+1)\n",
    "    for j in range(l):\n",
    "        sH=sH*(1-expFactor)+(df['High'].iloc[i-j])*expFactor\n",
    "        sL=sL*(1-expFactor)+(df['Low'].iloc[i-j])*expFactor\n",
    "        sO=sO*(1-expFactor)+(df['Open'].iloc[i-j])*expFactor\n",
    "        sC=sC*(1-expFactor)+(df['Close'].iloc[i-j])*expFactor\n",
    "        sTr+=TrueR[i-j]    \n",
    "    \n",
    "    maH.append(sH)\n",
    "    maL.append(sL)\n",
    "    maO.append(sO)\n",
    "    maC.append(sC)\n",
    "    ATR.append(sTr/l)\n",
    "    \n",
    "    \n",
    "    if i==0:\n",
    "        pClose=maC[0]\n",
    "    else:\n",
    "        pClose=maC[-2]\n",
    "        \n",
    "    vTrueRange = max([maH[-1], pClose])-min([maL[-1], pClose])\n",
    "    vRange=maH[-1]-maL[-1]\n",
    "    \n",
    "    if i==0:\n",
    "        vqi.append(0)\n",
    "        vqc.append(0)\n",
    "    else:\n",
    "        if vRange>0 and vTrueRange>0:\n",
    "            vt=((maC[-1]-pClose)/vTrueRange + (maC[-1]-maO[-1])/vRange)*0.5\n",
    "        else:\n",
    "            vt=vqc[-1]\n",
    "        \n",
    "        vqin=abs(vt)*(maC[-1]-pClose+maC[-1]-maO[-1])*0.5\n",
    "        vqinc=vqin\n",
    "        if abs(vqin-vqi[-1])<inpFilter*ATR[-1]:\n",
    "            vqin=vqi[-1]\n",
    "        vqc.append(vqinc)\n",
    "        vqi.append(vqin)\n",
    "        \n",
    "    #HMA indicator\n",
    "    wma1=0\n",
    "    wma2=0\n",
    "    l=min([i+1, HPeriod])\n",
    "    half_l=int(l/2)\n",
    "    for j in range(l):\n",
    "        if (j<half_l):\n",
    "            wma1+=(df['Close'].iloc[i-j])*(half_l-j)\n",
    "        wma2+=(df['Close'].iloc[i-j])*(l-j)\n",
    "        \n",
    "    if half_l==0:\n",
    "        rhma.append(wma2*2/(l*(l+1)))\n",
    "    else:\n",
    "        rhma.append(wma1*4/(half_l*(half_l+1))- wma2*2/(l*(l+1)))\n",
    "    \n",
    "    \n",
    "    l=min([i+1, int(math.sqrt(HPeriod))])\n",
    "    wma=0\n",
    "    for j in range(l):\n",
    "        wma+=(df['Close'].iloc[i-j])*(l-j)\n",
    "    hma.append(2*wma/(l*(l+1)))\n",
    "    \n",
    "\n",
    "    \n",
    "df['Avergae True Range']=ATR\n",
    "df['Volatility Quality']=vqi\n",
    "df['HMA']=hma\n",
    "df['Normalized HMA']=(df['Close']-df['HMA'])/df['Close']"
   ]
  },
  {
   "cell_type": "markdown",
   "id": "f1dcc885-a40a-4261-95c5-ca8cd9c09f2c",
   "metadata": {},
   "source": [
    "## Create train and test sets, and calculate Z-score for them"
   ]
  },
  {
   "cell_type": "code",
   "execution_count": 6,
   "id": "23670f83-9bb7-4d73-9999-f67283dd2461",
   "metadata": {},
   "outputs": [],
   "source": [
    "dff=df[['Close', 'Volatility Quality', 'Normalized HMA']]\n",
    "train, test = train_test_split(dff, test_size=0.3, random_state=25, shuffle=False)\n",
    "my=train.mean(axis=0)\n",
    "sy=train.std(axis=0)\n",
    "train=(train-my)/sy\n",
    "\n",
    "m=test.mean(axis=0)\n",
    "s=test.std(axis=0)\n",
    "test=(test-m)/s"
   ]
  },
  {
   "cell_type": "markdown",
   "id": "ed68c769-3d6d-423e-bd10-2edca29c33e1",
   "metadata": {},
   "source": [
    "## Prepare the data for tensorflow"
   ]
  },
  {
   "cell_type": "code",
   "execution_count": 7,
   "id": "03565c7d-2dc2-4096-bd60-9bb9e9bf1ca5",
   "metadata": {},
   "outputs": [],
   "source": [
    "trainX, trainY = create_dataset(train, LSTM_look_back)\n",
    "testX, testY = create_dataset(test, LSTM_look_back)"
   ]
  },
  {
   "cell_type": "markdown",
   "id": "519f67d9-0267-4843-af4a-f8f8d67a157d",
   "metadata": {},
   "source": [
    "## Create and train a LSTM model"
   ]
  },
  {
   "cell_type": "code",
   "execution_count": 8,
   "id": "39823167-c00b-4705-97aa-b00f83b470c2",
   "metadata": {},
   "outputs": [
    {
     "name": "stdout",
     "output_type": "stream",
     "text": [
      "Epoch 1/50\n",
      "50/50 - 4s - loss: 0.3379 - val_loss: 0.0488 - 4s/epoch - 81ms/step\n",
      "Epoch 2/50\n",
      "50/50 - 0s - loss: 0.0450 - val_loss: 0.0253 - 417ms/epoch - 8ms/step\n",
      "Epoch 3/50\n",
      "50/50 - 0s - loss: 0.0179 - val_loss: 0.0166 - 439ms/epoch - 9ms/step\n",
      "Epoch 4/50\n",
      "50/50 - 0s - loss: 0.0088 - val_loss: 0.0115 - 417ms/epoch - 8ms/step\n",
      "Epoch 5/50\n",
      "50/50 - 0s - loss: 0.0058 - val_loss: 0.0092 - 417ms/epoch - 8ms/step\n",
      "Epoch 6/50\n",
      "50/50 - 0s - loss: 0.0042 - val_loss: 0.0065 - 417ms/epoch - 8ms/step\n",
      "Epoch 7/50\n",
      "50/50 - 0s - loss: 0.0032 - val_loss: 0.0062 - 401ms/epoch - 8ms/step\n",
      "Epoch 8/50\n",
      "50/50 - 0s - loss: 0.0025 - val_loss: 0.0052 - 423ms/epoch - 8ms/step\n",
      "Epoch 9/50\n",
      "50/50 - 0s - loss: 0.0021 - val_loss: 0.0049 - 401ms/epoch - 8ms/step\n",
      "Epoch 10/50\n",
      "50/50 - 0s - loss: 0.0018 - val_loss: 0.0043 - 432ms/epoch - 9ms/step\n",
      "Epoch 11/50\n",
      "50/50 - 0s - loss: 0.0015 - val_loss: 0.0042 - 417ms/epoch - 8ms/step\n",
      "Epoch 12/50\n",
      "50/50 - 0s - loss: 0.0014 - val_loss: 0.0039 - 417ms/epoch - 8ms/step\n",
      "Epoch 13/50\n",
      "50/50 - 0s - loss: 0.0013 - val_loss: 0.0038 - 401ms/epoch - 8ms/step\n",
      "Epoch 14/50\n",
      "50/50 - 0s - loss: 0.0012 - val_loss: 0.0036 - 417ms/epoch - 8ms/step\n",
      "Epoch 15/50\n",
      "50/50 - 0s - loss: 0.0011 - val_loss: 0.0036 - 439ms/epoch - 9ms/step\n",
      "Epoch 16/50\n",
      "50/50 - 0s - loss: 0.0011 - val_loss: 0.0035 - 417ms/epoch - 8ms/step\n",
      "Epoch 17/50\n",
      "50/50 - 0s - loss: 0.0010 - val_loss: 0.0035 - 432ms/epoch - 9ms/step\n",
      "Epoch 18/50\n",
      "50/50 - 0s - loss: 9.9510e-04 - val_loss: 0.0032 - 423ms/epoch - 8ms/step\n",
      "Epoch 19/50\n",
      "50/50 - 0s - loss: 9.5003e-04 - val_loss: 0.0033 - 417ms/epoch - 8ms/step\n",
      "Epoch 20/50\n",
      "50/50 - 0s - loss: 9.3401e-04 - val_loss: 0.0032 - 417ms/epoch - 8ms/step\n",
      "Epoch 21/50\n",
      "50/50 - 0s - loss: 8.8411e-04 - val_loss: 0.0032 - 432ms/epoch - 9ms/step\n",
      "Epoch 22/50\n",
      "50/50 - 0s - loss: 8.9255e-04 - val_loss: 0.0032 - 417ms/epoch - 8ms/step\n",
      "Epoch 23/50\n",
      "50/50 - 0s - loss: 8.4979e-04 - val_loss: 0.0032 - 448ms/epoch - 9ms/step\n",
      "Epoch 24/50\n",
      "50/50 - 0s - loss: 8.3521e-04 - val_loss: 0.0033 - 439ms/epoch - 9ms/step\n",
      "Epoch 25/50\n",
      "50/50 - 0s - loss: 8.3070e-04 - val_loss: 0.0030 - 432ms/epoch - 9ms/step\n",
      "Epoch 26/50\n",
      "50/50 - 0s - loss: 8.2282e-04 - val_loss: 0.0030 - 417ms/epoch - 8ms/step\n",
      "Epoch 27/50\n",
      "50/50 - 0s - loss: 8.1994e-04 - val_loss: 0.0031 - 401ms/epoch - 8ms/step\n",
      "Epoch 28/50\n",
      "50/50 - 0s - loss: 7.9621e-04 - val_loss: 0.0031 - 423ms/epoch - 8ms/step\n",
      "Epoch 29/50\n",
      "50/50 - 0s - loss: 8.1689e-04 - val_loss: 0.0031 - 448ms/epoch - 9ms/step\n",
      "Epoch 30/50\n",
      "50/50 - 0s - loss: 7.8875e-04 - val_loss: 0.0030 - 432ms/epoch - 9ms/step\n",
      "Epoch 31/50\n",
      "50/50 - 0s - loss: 7.8473e-04 - val_loss: 0.0032 - 423ms/epoch - 8ms/step\n",
      "Epoch 32/50\n",
      "50/50 - 0s - loss: 7.6307e-04 - val_loss: 0.0031 - 432ms/epoch - 9ms/step\n",
      "Epoch 33/50\n",
      "50/50 - 0s - loss: 7.5976e-04 - val_loss: 0.0031 - 432ms/epoch - 9ms/step\n",
      "Epoch 34/50\n",
      "50/50 - 0s - loss: 7.5024e-04 - val_loss: 0.0031 - 439ms/epoch - 9ms/step\n",
      "Epoch 35/50\n",
      "50/50 - 0s - loss: 7.5612e-04 - val_loss: 0.0033 - 417ms/epoch - 8ms/step\n",
      "Epoch 36/50\n",
      "50/50 - 0s - loss: 7.7471e-04 - val_loss: 0.0029 - 433ms/epoch - 9ms/step\n",
      "Epoch 37/50\n",
      "50/50 - 0s - loss: 7.3252e-04 - val_loss: 0.0029 - 454ms/epoch - 9ms/step\n",
      "Epoch 38/50\n",
      "50/50 - 0s - loss: 7.4967e-04 - val_loss: 0.0034 - 417ms/epoch - 8ms/step\n",
      "Epoch 39/50\n",
      "50/50 - 0s - loss: 7.5104e-04 - val_loss: 0.0028 - 448ms/epoch - 9ms/step\n",
      "Epoch 40/50\n",
      "50/50 - 0s - loss: 7.2039e-04 - val_loss: 0.0030 - 454ms/epoch - 9ms/step\n",
      "Epoch 41/50\n",
      "50/50 - 0s - loss: 7.2149e-04 - val_loss: 0.0030 - 432ms/epoch - 9ms/step\n",
      "Epoch 42/50\n",
      "50/50 - 0s - loss: 7.2657e-04 - val_loss: 0.0029 - 401ms/epoch - 8ms/step\n",
      "Epoch 43/50\n",
      "50/50 - 0s - loss: 7.3764e-04 - val_loss: 0.0032 - 432ms/epoch - 9ms/step\n",
      "Epoch 44/50\n",
      "50/50 - 0s - loss: 7.2441e-04 - val_loss: 0.0028 - 423ms/epoch - 8ms/step\n",
      "Epoch 45/50\n",
      "50/50 - 0s - loss: 7.1659e-04 - val_loss: 0.0028 - 432ms/epoch - 9ms/step\n",
      "Epoch 46/50\n",
      "50/50 - 0s - loss: 7.0569e-04 - val_loss: 0.0029 - 439ms/epoch - 9ms/step\n",
      "Epoch 47/50\n",
      "50/50 - 0s - loss: 6.9524e-04 - val_loss: 0.0029 - 432ms/epoch - 9ms/step\n",
      "Epoch 48/50\n",
      "50/50 - 0s - loss: 6.9977e-04 - val_loss: 0.0027 - 432ms/epoch - 9ms/step\n",
      "Epoch 49/50\n",
      "50/50 - 0s - loss: 7.1183e-04 - val_loss: 0.0029 - 455ms/epoch - 9ms/step\n",
      "Epoch 50/50\n",
      "50/50 - 0s - loss: 7.1317e-04 - val_loss: 0.0028 - 448ms/epoch - 9ms/step\n"
     ]
    }
   ],
   "source": [
    "model = Sequential()\n",
    "model.add(LSTM(15, input_shape=(trainX.shape[1], trainX.shape[2])))\n",
    "model.add(Dense(1))\n",
    "model.compile(loss='mean_squared_error', optimizer='adam')\n",
    "hist=model.fit(trainX, trainY, epochs=50, batch_size=100, verbose=2, validation_data=(testX, testY))"
   ]
  },
  {
   "cell_type": "markdown",
   "id": "b8ddb202-e4a8-4586-beb9-0699e930d940",
   "metadata": {},
   "source": [
    "## LSTM performance plots"
   ]
  },
  {
   "cell_type": "code",
   "execution_count": 9,
   "id": "19f0d621-523e-4341-8aa7-77464f6de446",
   "metadata": {},
   "outputs": [
    {
     "data": {
      "image/png": "[encoded data removed]",
      "text/plain": [
       "<Figure size 432x288 with 1 Axes>"
      ]
     },
     "metadata": {
      "needs_background": "light"
     },
     "output_type": "display_data"
    }
   ],
   "source": [
    "plt.plot(hist.history['loss'], label='loss')\n",
    "plt.plot(hist.history['val_loss'], label='val_loss')\n",
    "plt.xlabel('Epoch')\n",
    "plt.legend()\n",
    "plt.ylabel('Error')\n",
    "plt.grid(True)"
   ]
  },
  {
   "cell_type": "markdown",
   "id": "35c5bb18-b5f8-4f3e-b54e-6ba375a4e39e",
   "metadata": {},
   "source": [
    "## Check the quality of the prediction"
   ]
  },
  {
   "cell_type": "code",
   "execution_count": 10,
   "id": "82eac357-10ae-46d4-8b78-895491607361",
   "metadata": {},
   "outputs": [
    {
     "name": "stdout",
     "output_type": "stream",
     "text": [
      "66/66 [==============================] - 1s 3ms/step\n"
     ]
    },
    {
     "data": {
      "text/plain": [
       "[<matplotlib.lines.Line2D at 0x26494736d10>]"
      ]
     },
     "execution_count": 10,
     "metadata": {},
     "output_type": "execute_result"
    },
    {
     "data": {
      "image/png": "[encoded data removed]",
      "text/plain": [
       "<Figure size 432x288 with 1 Axes>"
      ]
     },
     "metadata": {
      "needs_background": "light"
     },
     "output_type": "display_data"
    }
   ],
   "source": [
    "y_pred = (model.predict(testX))\n",
    "plt.plot(y_pred)\n",
    "plt.plot(testY)"
   ]
  },
  {
   "cell_type": "markdown",
   "id": "7cbf794f-0928-4650-ad3a-806157c00c2b",
   "metadata": {},
   "source": [
    "## Profit with a simple trading strategy"
   ]
  },
  {
   "cell_type": "code",
   "execution_count": 11,
   "id": "0d9feb1d-cf0c-489b-be25-e2e5c77de95d",
   "metadata": {},
   "outputs": [
    {
     "name": "stdout",
     "output_type": "stream",
     "text": [
      "2911.3040000000015\n"
     ]
    },
    {
     "data": {
      "image/png": "[encoded data removed]",
      "text/plain": [
       "<Figure size 432x288 with 1 Axes>"
      ]
     },
     "metadata": {
      "needs_background": "light"
     },
     "output_type": "display_data"
    }
   ],
   "source": [
    "sz=train.shape[0]\n",
    "profit=[0]\n",
    "for i in range(LSTM_look_back-1):\n",
    "    profit.append(0)\n",
    "n=len(df.index)-LSTM_look_back\n",
    "cond=0\n",
    "\n",
    "Commence_Trade=1.00001\n",
    "Hold=1\n",
    "\n",
    "for i in range(sz, n):\n",
    "    j=i-sz\n",
    "    \n",
    "    if y_pred[j]>=Commence_Trade*testX[j][0][0]:\n",
    "        cond=1\n",
    "    elif y_pred[j]<Hold*testX[j][0][0] and y_pred[j]>-Hold*testX[j][0][0]:\n",
    "        cond=0\n",
    "    elif y_pred[j]<=-Commence_Trade*testX[j][0][0]:\n",
    "        cond=-1\n",
    "    \n",
    "    if cond==1:\n",
    "        profit.append(profit[-1]+df2.iloc[i])\n",
    "    elif cond==-1:\n",
    "        profit.append(profit[-1]-df2.iloc[i])\n",
    "    else:\n",
    "        profit.append(profit[-1])    \n",
    "        \n",
    "\n",
    "dfr=test.copy()\n",
    "dfr['Profit']=profit\n",
    "dfr['Profit'].plot()\n",
    "print(profit[-1])"
   ]
  },
  {
   "cell_type": "code",
   "execution_count": null,
   "id": "fafd3919-8c23-4aec-bd3d-aee644186b1b",
   "metadata": {},
   "outputs": [],
   "source": []
  }
 ],
 "metadata": {
  "kernelspec": {
   "display_name": "Python 3 (ipykernel)",
   "language": "python",
   "name": "python3"
  },
  "language_info": {
   "codemirror_mode": {
    "name": "ipython",
    "version": 3
   },
   "file_extension": ".py",
   "mimetype": "text/x-python",
   "name": "python",
   "nbconvert_exporter": "python",
   "pygments_lexer": "ipython3",
   "version": "3.10.6"
  }
 },
 "nbformat": 4,
 "nbformat_minor": 5
}
